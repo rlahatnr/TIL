{
 "cells": [
  {
   "cell_type": "code",
   "execution_count": 12,
   "id": "496aa80e",
   "metadata": {},
   "outputs": [],
   "source": [
    "import enchant as en\n",
    "import string\n",
    "import random\n",
    "from colorama import Fore, Style\n",
    "import requests\n",
    "\n",
    "dic = en.Dict(\"en_US\")\n",
    "\n",
    "def random_word_generator(num):\n",
    "    while True:    \n",
    "        letter = \"\".join(random.sample(string.ascii_uppercase, num))\n",
    "        if dic.check(letter) == True:\n",
    "            break\n",
    "    return letter\n",
    "\n",
    "def wordle(word):  \n",
    "    life = 0\n",
    "    abt = list(string.ascii_uppercase)\n",
    "    while True:\n",
    "        life = life+1\n",
    "        log = []\n",
    "        answer = []\n",
    "        user_input = input('단어 입력: ').upper()\n",
    "        \n",
    "        # 5글자 입력이 아닐경우 & 존재하지 않는 단어일 때 무한 질문\n",
    "        while (len(user_input) != 5) or (dic.check(user_input) == False):\n",
    "            user_input = input('유효하지 않은 단어입니다.\\n단어 재입력: ').upper()\n",
    "        \n",
    "        for idx, val in enumerate(user_input):\n",
    "            is_there = word.find(val)\n",
    "            # 단어안에 해당 글자가 있을 경우\n",
    "            if is_there != -1:\n",
    "                # 위치까지 동일하면 초록\n",
    "                if idx == is_there:\n",
    "                    char = Fore.GREEN + val + Style.RESET_ALL\n",
    "                # 있지만 위치는 다르다면 노랑\n",
    "                else:\n",
    "                    char = Fore.YELLOW + val + Style.RESET_ALL\n",
    "                answer.append(char)\n",
    "            # 단어안에 해당 글자가 아예 없으면 빨강\n",
    "            elif is_there == -1:\n",
    "                char = Fore.RED + val + Style.RESET_ALL\n",
    "                for abt_idx, abt_val in enumerate(abt):\n",
    "                    if val in abt_val:\n",
    "                        abt[abt_idx] = char\n",
    "                answer.append(char)\n",
    "\n",
    "        answer = \" \".join(answer)\n",
    "        print(f\"\\n{ life }번째 시도: { user_input }\")  \n",
    "        print(f\"결과: {answer}\\n{' '.join(abt)}\")\n",
    "        if answer.count('32') == 5:\n",
    "            print(f'\\n축하합니다! {life}번만에 맞추셨습니다!')\n",
    "            break\n",
    "        elif life == 6:\n",
    "            print('\\n6번의 기회를 모두 사용했지만 정답을 맞추는 것에 실패했습니다.')\n",
    "            print(f'오늘의 단어는 {word}입니다.')\n",
    "            break\n"
   ]
  },
  {
   "cell_type": "code",
   "execution_count": 14,
   "id": "f493c4e7",
   "metadata": {},
   "outputs": [
    {
     "name": "stdout",
     "output_type": "stream",
     "text": [
      "단어 입력: after\n",
      "\n",
      "1번째 시도: AFTER\n",
      "결과: \u001b[31mA\u001b[0m \u001b[31mF\u001b[0m \u001b[32mT\u001b[0m \u001b[33mE\u001b[0m \u001b[33mR\u001b[0m\n",
      "\u001b[31mA\u001b[0m B C D E \u001b[31mF\u001b[0m G H I J K L M N O P Q R S T U V W X Y Z\n",
      "단어 입력: artist\n",
      "유효하지 않은 단어입니다.\n",
      "단어 재입력: antre\n",
      "\n",
      "2번째 시도: ANTRE\n",
      "결과: \u001b[31mA\u001b[0m \u001b[31mN\u001b[0m \u001b[32mT\u001b[0m \u001b[33mR\u001b[0m \u001b[33mE\u001b[0m\n",
      "\u001b[31mA\u001b[0m B C D E \u001b[31mF\u001b[0m G H I J K L M \u001b[31mN\u001b[0m O P Q R S T U V W X Y Z\n",
      "단어 입력: glory\n",
      "\n",
      "3번째 시도: GLORY\n",
      "결과: \u001b[31mG\u001b[0m \u001b[31mL\u001b[0m \u001b[31mO\u001b[0m \u001b[33mR\u001b[0m \u001b[31mY\u001b[0m\n",
      "\u001b[31mA\u001b[0m B C D E \u001b[31mF\u001b[0m \u001b[31mG\u001b[0m H I J K \u001b[31mL\u001b[0m M \u001b[31mN\u001b[0m \u001b[31mO\u001b[0m P Q R S T U V W X \u001b[31mY\u001b[0m Z\n",
      "단어 입력: porch\n",
      "\n",
      "4번째 시도: PORCH\n",
      "결과: \u001b[31mP\u001b[0m \u001b[31mO\u001b[0m \u001b[33mR\u001b[0m \u001b[32mC\u001b[0m \u001b[32mH\u001b[0m\n",
      "\u001b[31mA\u001b[0m B C D E \u001b[31mF\u001b[0m \u001b[31mG\u001b[0m H I J K \u001b[31mL\u001b[0m M \u001b[31mN\u001b[0m \u001b[31mO\u001b[0m \u001b[31mP\u001b[0m Q R S T U V W X \u001b[31mY\u001b[0m Z\n",
      "단어 입력: retch\n",
      "\n",
      "5번째 시도: RETCH\n",
      "결과: \u001b[32mR\u001b[0m \u001b[32mE\u001b[0m \u001b[32mT\u001b[0m \u001b[32mC\u001b[0m \u001b[32mH\u001b[0m\n",
      "\u001b[31mA\u001b[0m B C D E \u001b[31mF\u001b[0m \u001b[31mG\u001b[0m H I J K \u001b[31mL\u001b[0m M \u001b[31mN\u001b[0m \u001b[31mO\u001b[0m \u001b[31mP\u001b[0m Q R S T U V W X \u001b[31mY\u001b[0m Z\n",
      "\n",
      "축하합니다! 5번만에 맞추셨습니다!\n"
     ]
    }
   ],
   "source": [
    "wordle(random_word_generator(5))"
   ]
  },
  {
   "cell_type": "code",
   "execution_count": 15,
   "id": "fac7a4b3",
   "metadata": {},
   "outputs": [
    {
     "data": {
      "text/plain": [
       "'ABCDEFGHIJKLMNOPQRSTUVWXYZ'"
      ]
     },
     "execution_count": 15,
     "metadata": {},
     "output_type": "execute_result"
    }
   ],
   "source": [
    "string.ascii_uppercase"
   ]
  },
  {
   "cell_type": "code",
   "execution_count": null,
   "id": "171463d1",
   "metadata": {},
   "outputs": [],
   "source": []
  }
 ],
 "metadata": {
  "kernelspec": {
   "display_name": "Python 3",
   "language": "python",
   "name": "python3"
  },
  "language_info": {
   "codemirror_mode": {
    "name": "ipython",
    "version": 3
   },
   "file_extension": ".py",
   "mimetype": "text/x-python",
   "name": "python",
   "nbconvert_exporter": "python",
   "pygments_lexer": "ipython3",
   "version": "3.8.8"
  }
 },
 "nbformat": 4,
 "nbformat_minor": 5
}
