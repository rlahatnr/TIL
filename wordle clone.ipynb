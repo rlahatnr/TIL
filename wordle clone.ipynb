{
 "cells": [
  {
   "cell_type": "code",
   "execution_count": 173,
   "id": "57a4af2e",
   "metadata": {},
   "outputs": [
    {
     "name": "stdout",
     "output_type": "stream",
     "text": [
      "단어 입력: water\n",
      "\n",
      "1번째 시도: \n",
      "> ['w', 'a', 't', 'e', 'r']\n",
      "> ['X', 'X', 'X', 'X', 'X']\n",
      "\n",
      "O : \n",
      "△: \n",
      "X : w(1) a(2) t(3) e(4) r(5) \n",
      "단어 입력: infor\n",
      "\n",
      "2번째 시도: \n",
      "> ['i', 'n', 'f', 'o', 'r']\n",
      "> ['X', 'O', 'X', 'X', 'X']\n",
      "\n",
      "O : n(2) \n",
      "△: \n",
      "X : w(1) a(2) t(3) e(4) r(5) i(1) f(3) o(4) \n",
      "단어 입력: aspen\n",
      "\n",
      "3번째 시도: \n",
      "> ['a', 's', 'p', 'e', 'n']\n",
      "> ['X', 'X', 'X', 'X', '△']\n",
      "\n",
      "O : n(2) \n",
      "△: n(5) \n",
      "X : w(1) a(2) t(3) e(4) r(5) i(1) f(3) o(4) s(2) p(3) \n",
      "단어 입력: qtuen\n",
      "\n",
      "4번째 시도: \n",
      "> ['q', 't', 'u', 'e', 'n']\n",
      "> ['X', 'X', '△', 'X', '△']\n",
      "\n",
      "O : n(2) \n",
      "△: n(5) u(3) \n",
      "X : w(1) a(2) t(3) e(4) r(5) i(1) f(3) o(4) s(2) p(3) q(1) \n"
     ]
    },
    {
     "ename": "KeyboardInterrupt",
     "evalue": "Interrupted by user",
     "output_type": "error",
     "traceback": [
      "\u001b[1;31m---------------------------------------------------------------------------\u001b[0m",
      "\u001b[1;31mKeyboardInterrupt\u001b[0m                         Traceback (most recent call last)",
      "\u001b[1;32m<ipython-input-173-a80be35b27aa>\u001b[0m in \u001b[0;36m<module>\u001b[1;34m\u001b[0m\n\u001b[0;32m     57\u001b[0m             \u001b[1;32mbreak\u001b[0m\u001b[1;33m\u001b[0m\u001b[1;33m\u001b[0m\u001b[0m\n\u001b[0;32m     58\u001b[0m \u001b[1;33m\u001b[0m\u001b[0m\n\u001b[1;32m---> 59\u001b[1;33m \u001b[0mwordle_cracker\u001b[0m\u001b[1;33m(\u001b[0m\u001b[1;33m)\u001b[0m\u001b[1;33m\u001b[0m\u001b[1;33m\u001b[0m\u001b[0m\n\u001b[0m",
      "\u001b[1;32m<ipython-input-173-a80be35b27aa>\u001b[0m in \u001b[0;36mwordle_cracker\u001b[1;34m()\u001b[0m\n\u001b[0;32m     14\u001b[0m         \u001b[0mlife\u001b[0m \u001b[1;33m=\u001b[0m \u001b[0mlife\u001b[0m\u001b[1;33m+\u001b[0m\u001b[1;36m1\u001b[0m\u001b[1;33m\u001b[0m\u001b[1;33m\u001b[0m\u001b[0m\n\u001b[0;32m     15\u001b[0m         \u001b[0mlog\u001b[0m \u001b[1;33m=\u001b[0m \u001b[1;33m[\u001b[0m\u001b[1;33m]\u001b[0m\u001b[1;33m\u001b[0m\u001b[1;33m\u001b[0m\u001b[0m\n\u001b[1;32m---> 16\u001b[1;33m         \u001b[0muser_input\u001b[0m \u001b[1;33m=\u001b[0m \u001b[0minput\u001b[0m\u001b[1;33m(\u001b[0m\u001b[1;34m'단어 입력: '\u001b[0m\u001b[1;33m)\u001b[0m\u001b[1;33m\u001b[0m\u001b[1;33m\u001b[0m\u001b[0m\n\u001b[0m\u001b[0;32m     17\u001b[0m \u001b[1;33m\u001b[0m\u001b[0m\n\u001b[0;32m     18\u001b[0m         \u001b[1;31m# 5글자 입력이 아닐경우 무한 질문\u001b[0m\u001b[1;33m\u001b[0m\u001b[1;33m\u001b[0m\u001b[1;33m\u001b[0m\u001b[0m\n",
      "\u001b[1;32m~\\anaconda3\\lib\\site-packages\\ipykernel\\kernelbase.py\u001b[0m in \u001b[0;36mraw_input\u001b[1;34m(self, prompt)\u001b[0m\n\u001b[0;32m    858\u001b[0m                 \u001b[1;34m\"raw_input was called, but this frontend does not support input requests.\"\u001b[0m\u001b[1;33m\u001b[0m\u001b[1;33m\u001b[0m\u001b[0m\n\u001b[0;32m    859\u001b[0m             )\n\u001b[1;32m--> 860\u001b[1;33m         return self._input_request(str(prompt),\n\u001b[0m\u001b[0;32m    861\u001b[0m             \u001b[0mself\u001b[0m\u001b[1;33m.\u001b[0m\u001b[0m_parent_ident\u001b[0m\u001b[1;33m,\u001b[0m\u001b[1;33m\u001b[0m\u001b[1;33m\u001b[0m\u001b[0m\n\u001b[0;32m    862\u001b[0m             \u001b[0mself\u001b[0m\u001b[1;33m.\u001b[0m\u001b[0m_parent_header\u001b[0m\u001b[1;33m,\u001b[0m\u001b[1;33m\u001b[0m\u001b[1;33m\u001b[0m\u001b[0m\n",
      "\u001b[1;32m~\\anaconda3\\lib\\site-packages\\ipykernel\\kernelbase.py\u001b[0m in \u001b[0;36m_input_request\u001b[1;34m(self, prompt, ident, parent, password)\u001b[0m\n\u001b[0;32m    902\u001b[0m             \u001b[1;32mexcept\u001b[0m \u001b[0mKeyboardInterrupt\u001b[0m\u001b[1;33m:\u001b[0m\u001b[1;33m\u001b[0m\u001b[1;33m\u001b[0m\u001b[0m\n\u001b[0;32m    903\u001b[0m                 \u001b[1;31m# re-raise KeyboardInterrupt, to truncate traceback\u001b[0m\u001b[1;33m\u001b[0m\u001b[1;33m\u001b[0m\u001b[1;33m\u001b[0m\u001b[0m\n\u001b[1;32m--> 904\u001b[1;33m                 \u001b[1;32mraise\u001b[0m \u001b[0mKeyboardInterrupt\u001b[0m\u001b[1;33m(\u001b[0m\u001b[1;34m\"Interrupted by user\"\u001b[0m\u001b[1;33m)\u001b[0m \u001b[1;32mfrom\u001b[0m \u001b[1;32mNone\u001b[0m\u001b[1;33m\u001b[0m\u001b[1;33m\u001b[0m\u001b[0m\n\u001b[0m\u001b[0;32m    905\u001b[0m             \u001b[1;32mexcept\u001b[0m \u001b[0mException\u001b[0m \u001b[1;32mas\u001b[0m \u001b[0me\u001b[0m\u001b[1;33m:\u001b[0m\u001b[1;33m\u001b[0m\u001b[1;33m\u001b[0m\u001b[0m\n\u001b[0;32m    906\u001b[0m                 \u001b[0mself\u001b[0m\u001b[1;33m.\u001b[0m\u001b[0mlog\u001b[0m\u001b[1;33m.\u001b[0m\u001b[0mwarning\u001b[0m\u001b[1;33m(\u001b[0m\u001b[1;34m\"Invalid Message:\"\u001b[0m\u001b[1;33m,\u001b[0m \u001b[0mexc_info\u001b[0m\u001b[1;33m=\u001b[0m\u001b[1;32mTrue\u001b[0m\u001b[1;33m)\u001b[0m\u001b[1;33m\u001b[0m\u001b[1;33m\u001b[0m\u001b[0m\n",
      "\u001b[1;31mKeyboardInterrupt\u001b[0m: Interrupted by user"
     ]
    }
   ],
   "source": [
    "import random\n",
    "\n",
    "# random word generator 만들어서 추가하기\n",
    "alphabet = 'abcdefghijklnmopqrstuvwxyz'\n",
    "word = random.sample((\",\".join(alphabet)).split(','), 5)\n",
    "word = \"\".join(word)\n",
    "\n",
    "def wordle_cracker():  \n",
    "    life = 0\n",
    "    # 위치가 완전히 동일할 경우엔 ㅇ\n",
    "    # 위치는 동일하지 않지만 해당 글자가 포함되어있을 땐 △\n",
    "    # 없을 때는 X\n",
    "    dic = {\"O\":'',\"△\":\"\",\"X\":''}\n",
    "    while True:\n",
    "        life = life+1\n",
    "        log = []\n",
    "        user_input = input('단어 입력: ')\n",
    "        \n",
    "        # 5글자 입력이 아닐경우 무한 질문\n",
    "        while (len(user_input) != 5):\n",
    "            user_input = input('단어는 5글자여야 합니다.')\n",
    "        \n",
    "        for idx, val in enumerate(user_input):\n",
    "            is_there = word.find(val)\n",
    "            # 단어안에 해당 글자가 있을 경우\n",
    "            if is_there != -1:\n",
    "                # 위치까지 동일하면\n",
    "                if idx == is_there:\n",
    "                    log.append('O')\n",
    "                    if val in dic['O']:\n",
    "                        pass\n",
    "                    else:\n",
    "                        dic['O'] += val+f\"({idx+1}) \"\n",
    "                # 위치는 다르다면\n",
    "                else:\n",
    "                    log.append('△')\n",
    "                    if val in dic['△']:\n",
    "                        pass\n",
    "                    else:\n",
    "                        dic['△'] += val+f\"({idx+1}) \"\n",
    "            # 단어안에 해당 글자가 아예 없으면\n",
    "            else:\n",
    "                log.append('X')\n",
    "                if val in dic['X']:\n",
    "                    pass\n",
    "                else:\n",
    "                    dic['X'] += val\n",
    "                    \n",
    "        print(f\"\\n{life}번째 시도: \\n> {(','.join(user_input)).split(',')}\\n> {log}\\n\")   \n",
    "        print(\"O : \"+dic['O'])\n",
    "        print(\"△: \"+dic['△'])\n",
    "        print(\"X : \"+dic['X'])\n",
    "        if log.count('O') == 5:\n",
    "            print(f'\\n축하합니다! {life}번만에 맞추셨습니다!')\n",
    "            break\n",
    "        elif life == 6:\n",
    "            print('\\n6번의 기회를 모두 사용했지만 실패했습니다.')\n",
    "            break\n",
    "\n",
    "wordle_cracker()"
   ]
  },
  {
   "cell_type": "code",
   "execution_count": 172,
   "id": "cb2021ce",
   "metadata": {},
   "outputs": [
    {
     "data": {
      "text/plain": [
       "'npuci'"
      ]
     },
     "execution_count": 172,
     "metadata": {},
     "output_type": "execute_result"
    }
   ],
   "source": []
  },
  {
   "cell_type": "code",
   "execution_count": null,
   "id": "ebc38ee1",
   "metadata": {},
   "outputs": [],
   "source": []
  }
 ],
 "metadata": {
  "kernelspec": {
   "display_name": "Python 3",
   "language": "python",
   "name": "python3"
  },
  "language_info": {
   "codemirror_mode": {
    "name": "ipython",
    "version": 3
   },
   "file_extension": ".py",
   "mimetype": "text/x-python",
   "name": "python",
   "nbconvert_exporter": "python",
   "pygments_lexer": "ipython3",
   "version": "3.8.8"
  }
 },
 "nbformat": 4,
 "nbformat_minor": 5
}
