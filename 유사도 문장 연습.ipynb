{
 "cells": [
  {
   "cell_type": "markdown",
   "id": "a2f546a4",
   "metadata": {},
   "source": [
    "# 유사도 문장 연습\n",
    "### 입력한 기준 문장과 유사한 문장을 찾아내기\n",
    "- get_similar()는 기준 문장(string)과 유사한 문장들(list)을 받는다."
   ]
  },
  {
   "cell_type": "code",
   "execution_count": 7,
   "id": "acadd212",
   "metadata": {},
   "outputs": [],
   "source": [
    "from eunjeon import Mecab\n",
    "import pandas as pd\n",
    "from hanspell import spell_checker\n",
    "\n",
    "\n",
    "def get_similar(s, x):\n",
    "    mecab = Mecab()\n",
    "    total = []\n",
    "    s_pos = mecab.pos(spell_checker.check(s).checked)\n",
    "    sbox=[]\n",
    "    for t, a in s_pos:\n",
    "        if a in ['NNG', 'VV', 'MAG', 'VA']:\n",
    "            sbox.append(t)\n",
    "\n",
    "    for i in x:\n",
    "        o_pos = mecab.pos(i)\n",
    "        obox=[]\n",
    "        for t, a in o_pos:\n",
    "            if a in ['NNG', 'VV', 'MAG', 'VA']:\n",
    "                obox.append(t)\n",
    "\n",
    "        sim = len(set(sbox) & set(obox)) / len(set(sbox) | set(obox))\n",
    "        total.append([i, sim])\n",
    "        total.sort(key=lambda i:i[1], reverse=True)\n",
    "    if float(total[0][1]) < 0.45:\n",
    "        return ('유사 단어가 없습니다.')\n",
    "    else:\n",
    "        return ('가장 비슷한 문장은 [{}] 입니다.'.format(total[0][0]))\n"
   ]
  },
  {
   "cell_type": "code",
   "execution_count": 17,
   "id": "a8830397",
   "metadata": {},
   "outputs": [
    {
     "name": "stdout",
     "output_type": "stream",
     "text": [
      "기준 문장을 하나 입력해주세요: 어제는 사과를 먹었다\n"
     ]
    },
    {
     "data": {
      "text/plain": [
       "'가장 비슷한 문장은 [오늘은 사과가 먹고 싶어요] 입니다.'"
      ]
     },
     "execution_count": 17,
     "metadata": {},
     "output_type": "execute_result"
    }
   ],
   "source": [
    "sents = ['정말 재미가 있었어요', '오늘은 사과가 먹고 싶어요', '요즘은 매우 추워졌어요']\n",
    "s = input('기준 문장을 하나 입력해주세요: ')\n",
    "get_similar(f'{s}', sents)"
   ]
  },
  {
   "cell_type": "markdown",
   "id": "f4e1aa46",
   "metadata": {},
   "source": [
    "# 느낀점\n",
    "- 유사도: mecab.morphs()로 단어를 정리해서 동일한 단어가 문장 안에 많이 보일 수록 점수가 높다.\n",
    "\n",
    "딥러닝 머신러닝의 4차 산업 세상에서 이렇게 어거지로 문장 유사도를 뽑아보았다.\n",
    "\n",
    "나중에 딥러닝, 머신러닝을 공부하고 나서 이 코드를 보면 아주 웃겨 죽겠지?\n",
    "\n",
    "나중에 반성하기 위해 코드를 저장한다."
   ]
  }
 ],
 "metadata": {
  "kernelspec": {
   "display_name": "Python 3 (ipykernel)",
   "language": "python",
   "name": "python3"
  },
  "language_info": {
   "codemirror_mode": {
    "name": "ipython",
    "version": 3
   },
   "file_extension": ".py",
   "mimetype": "text/x-python",
   "name": "python",
   "nbconvert_exporter": "python",
   "pygments_lexer": "ipython3",
   "version": "3.8.5"
  }
 },
 "nbformat": 4,
 "nbformat_minor": 5
}
