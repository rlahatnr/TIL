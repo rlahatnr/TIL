{
 "cells": [
  {
   "cell_type": "code",
   "execution_count": 6,
   "id": "79bb042d",
   "metadata": {},
   "outputs": [
    {
     "name": "stdout",
     "output_type": "stream",
     "text": [
      "[2, 4, 1, 4, 1] ['짬뽕', '볶음밥', '짜장면', '볶음밥', '짜장면']\n",
      "\n",
      "오늘 주문할 음식은\n",
      "- 볶음밥 2개\n",
      "- 짜장면 2개\n",
      "- 짬뽕 1개\n",
      "\n",
      "총 가격은 27000원입니다.\n"
     ]
    }
   ],
   "source": [
    "import random\n",
    "\n",
    "total_food=[]\n",
    "total_price=[]\n",
    "dice_num=[]\n",
    "for i in range(5):\n",
    "    dice = random.randrange(1,7)\n",
    "    if dice == 1:\n",
    "        food = '짜장면'\n",
    "        price= 5000\n",
    "    elif dice == 2:\n",
    "        food = '짬뽕'\n",
    "        price= 5000\n",
    "    elif dice == 3:\n",
    "        food = '기스면'\n",
    "        price= 5500\n",
    "    elif dice == 4:\n",
    "        food = '볶음밥'\n",
    "        price= 6000\n",
    "    elif dice == 5:\n",
    "        food = '탕수육'\n",
    "        price= 10000\n",
    "    elif dice == 6:\n",
    "        food = '라조기'\n",
    "        price= 11000\n",
    "    total_food.append(food)\n",
    "    total_price.append(price)\n",
    "    dice_num.append(dice)\n",
    "    \n",
    "print(dice_num, total_food)\n",
    "print()\n",
    "print('오늘 주문할 음식은')\n",
    "for i in set(total_food):\n",
    "    print(f'- {i} {total_food.count(i)}개')\n",
    "print()\n",
    "print(f'총 가격은 {sum(total_price)}원입니다.')    "
   ]
  },
  {
   "cell_type": "code",
   "execution_count": null,
   "id": "95cd944d",
   "metadata": {},
   "outputs": [],
   "source": []
  }
 ],
 "metadata": {
  "kernelspec": {
   "display_name": "Python 3 (ipykernel)",
   "language": "python",
   "name": "python3"
  },
  "language_info": {
   "codemirror_mode": {
    "name": "ipython",
    "version": 3
   },
   "file_extension": ".py",
   "mimetype": "text/x-python",
   "name": "python",
   "nbconvert_exporter": "python",
   "pygments_lexer": "ipython3",
   "version": "3.8.5"
  }
 },
 "nbformat": 4,
 "nbformat_minor": 5
}
