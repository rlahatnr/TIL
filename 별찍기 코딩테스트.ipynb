{
 "cells": [
  {
   "cell_type": "code",
   "execution_count": 4,
   "metadata": {},
   "outputs": [
    {
     "name": "stdout",
     "output_type": "stream",
     "text": [
      "*\n",
      "**\n",
      "***\n",
      "****\n",
      "*****\n"
     ]
    }
   ],
   "source": [
    "# 직각 삼각형\n",
    "star = 5\n",
    "star = star+1\n",
    "\n",
    "for i in range(1, star):\n",
    "    print('*'*i)"
   ]
  },
  {
   "cell_type": "code",
   "execution_count": 5,
   "metadata": {},
   "outputs": [
    {
     "name": "stdout",
     "output_type": "stream",
     "text": [
      "     *\n",
      "    **\n",
      "   ***\n",
      "  ****\n",
      " *****\n"
     ]
    }
   ],
   "source": [
    "# 직각 삼각형 반대    \n",
    "\n",
    "for i in range(1, star):\n",
    "    print((' '*(star-i))+'*'*i)"
   ]
  },
  {
   "cell_type": "code",
   "execution_count": 6,
   "metadata": {},
   "outputs": [
    {
     "name": "stdout",
     "output_type": "stream",
     "text": [
      "     *\n",
      "    ***\n",
      "   *****\n",
      "  *******\n",
      " *********\n"
     ]
    }
   ],
   "source": [
    "# 이등변 삼각형\n",
    "\n",
    "for i in range(1, star):\n",
    "    print(\" \"*(star-i)+\"*\"*(i*2-1))"
   ]
  },
  {
   "cell_type": "code",
   "execution_count": 28,
   "metadata": {},
   "outputs": [
    {
     "name": "stdout",
     "output_type": "stream",
     "text": [
      "*****\n",
      "*****\n",
      "*****\n",
      "*****\n",
      "*****\n"
     ]
    }
   ],
   "source": [
    "# 사각형\n",
    "stars = 5\n",
    "\n",
    "for i in range(1, stars+1):\n",
    "    print(\"*\"*stars)"
   ]
  },
  {
   "cell_type": "code",
   "execution_count": 30,
   "metadata": {},
   "outputs": [
    {
     "name": "stdout",
     "output_type": "stream",
     "text": [
      "*****\n",
      "*   *\n",
      "*   *\n",
      "*****\n"
     ]
    }
   ],
   "source": [
    "for i in range(1, star):\n",
    "    if (i == 1) or (i == star-1):\n",
    "        print('*'*star)\n",
    "    else:\n",
    "        print('*',' '*(star-3), end='*\\n')"
   ]
  },
  {
   "cell_type": "code",
   "execution_count": 46,
   "metadata": {},
   "outputs": [
    {
     "name": "stdout",
     "output_type": "stream",
     "text": [
      "******\n",
      "*    *\n",
      "*    *\n",
      "*    *\n",
      "******\n"
     ]
    }
   ],
   "source": [
    "#속이 빈 사각형\n",
    "star = 5\n",
    "star = star+1\n",
    "\n",
    "for i in range(1, star):\n",
    "    if i == 1 or i==star-1:\n",
    "        print(\"*\"*star)\n",
    "    else:\n",
    "        print(\"*\"+\" \"*(star-2), end='*\\n')"
   ]
  },
  {
   "cell_type": "code",
   "execution_count": 6,
   "metadata": {},
   "outputs": [
    {
     "name": "stdout",
     "output_type": "stream",
     "text": [
      "*\n",
      "**\n",
      "***\n",
      "****\n",
      "***\n",
      "**\n",
      "*\n"
     ]
    }
   ],
   "source": [
    "#반쪽 마름모\n",
    "\n",
    "star = 8\n",
    "\n",
    "minus = 0\n",
    "for i in range(1, star):\n",
    "    if i <= star/2:\n",
    "        print(\"*\"*i)\n",
    "    else:\n",
    "        minus = minus+1\n",
    "        print(\"*\"*(int(star/2) - minus))\n"
   ]
  },
  {
   "cell_type": "code",
   "execution_count": 45,
   "metadata": {},
   "outputs": [
    {
     "name": "stdout",
     "output_type": "stream",
     "text": [
      "     *\n",
      "    ***\n",
      "   *****\n",
      "-2\n",
      "\n",
      "-1\n",
      "\n"
     ]
    }
   ],
   "source": [
    "# 마름모\n",
    "star = 6\n",
    "for i in range(1, star):\n",
    "    if i <= star/2:\n",
    "        print(\" \"*(star-i)+\"*\"*(i*2-1))\n",
    "    else:\n",
    "        i = (i-star)\n",
    "        print(i)\n",
    "        print(' '*i+'*'*(i))"
   ]
  },
  {
   "cell_type": "code",
   "execution_count": 46,
   "metadata": {},
   "outputs": [
    {
     "data": {
      "text/plain": [
       "6"
      ]
     },
     "execution_count": 46,
     "metadata": {},
     "output_type": "execute_result"
    }
   ],
   "source": [
    "star"
   ]
  },
  {
   "cell_type": "code",
   "execution_count": null,
   "metadata": {},
   "outputs": [],
   "source": []
  }
 ],
 "metadata": {
  "kernelspec": {
   "display_name": "Python 3 (ipykernel)",
   "language": "python",
   "name": "python3"
  },
  "language_info": {
   "codemirror_mode": {
    "name": "ipython",
    "version": 3
   },
   "file_extension": ".py",
   "mimetype": "text/x-python",
   "name": "python",
   "nbconvert_exporter": "python",
   "pygments_lexer": "ipython3",
   "version": "3.8.5"
  }
 },
 "nbformat": 4,
 "nbformat_minor": 4
}
